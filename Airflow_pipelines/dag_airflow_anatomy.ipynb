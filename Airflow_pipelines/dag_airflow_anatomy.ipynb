{
  "nbformat": 4,
  "nbformat_minor": 0,
  "metadata": {
    "colab": {
      "provenance": []
    },
    "kernelspec": {
      "name": "python3",
      "display_name": "Python 3"
    },
    "language_info": {
      "name": "python"
    }
  },
  "cells": [
    {
      "cell_type": "markdown",
      "source": [
        "# **DAG anatomy**"
      ],
      "metadata": {
        "id": "fMq30CrBc0C3"
      }
    },
    {
      "cell_type": "markdown",
      "source": [
        "**Imports**"
      ],
      "metadata": {
        "id": "_XzQRJ7zjUeo"
      }
    },
    {
      "cell_type": "code",
      "source": [
        "from datetime import timedelta\n",
        "# The DAG object; we'll need this to instantiate a DAG\n",
        "from airflow import DAG\n",
        "# Operators; we need this to write tasks!\n",
        "from airflow.operators.bash_operator import BashOperator\n",
        "# This makes scheduling easy\n",
        "from airflow.utils.dates import days_ago"
      ],
      "metadata": {
        "id": "7-qvti2aJpQ4"
      },
      "execution_count": null,
      "outputs": []
    },
    {
      "cell_type": "markdown",
      "source": [
        "**Defining Dag arguments**"
      ],
      "metadata": {
        "id": "IezGXMo5jZms"
      }
    },
    {
      "cell_type": "code",
      "source": [
        "# You can override them on a per-task basis during operator initialization\n",
        "default_args = {\n",
        "    'owner': 'Ramesh Sannareddy', # owner's name\n",
        "    'start_date': days_ago(0), #when this DAG should run from: days_age(0) means today,\n",
        "    'email': ['ramesh@somemail.com'], # email to receive alerts\n",
        "    'email_on_failure': True, # whether email to be sent on failure\n",
        "    'email_on_retry': True, # or on retry\n",
        "    'retries': 2, # no. of retries in case of failure\n",
        "    'retry_delay': timedelta(minutes=5), # time delay between retries\n",
        "}"
      ],
      "metadata": {
        "id": "NTnvQReAJpN6"
      },
      "execution_count": null,
      "outputs": []
    },
    {
      "cell_type": "markdown",
      "source": [
        "**Dag definition**"
      ],
      "metadata": {
        "id": "scF7jxZhjft7"
      }
    },
    {
      "cell_type": "code",
      "source": [
        "# instantiating the DAG class with the following parameters\n",
        "\n",
        "dag = DAG(\n",
        "    dag_id='sample-etl-dag', # dag identifier\n",
        "    default_args=default_args, # passing the defined args above\n",
        "    description='Sample ETL DAG using Bash', # what the dag is about\n",
        "    schedule_interval=timedelta(days=1), # how frequently this DAG runs (daily)\n",
        ")"
      ],
      "metadata": {
        "id": "CAoAOTD-JpJe"
      },
      "execution_count": null,
      "outputs": []
    },
    {
      "cell_type": "markdown",
      "source": [
        "**Task definition**"
      ],
      "metadata": {
        "id": "OEGEi5YAjjKg"
      }
    },
    {
      "cell_type": "markdown",
      "source": [
        "Contains:\n",
        "\n",
        "\n",
        "*   task_id : string to identify the task\n",
        "*   bash_command : the command it represents\n",
        "\n",
        "*   dag : the dag it belongs to\n",
        "\n",
        "\n",
        "\n"
      ],
      "metadata": {
        "id": "aDtvosvZlWws"
      }
    },
    {
      "cell_type": "code",
      "source": [
        "# define the first task named extract\n",
        "extract = BashOperator(\n",
        "    task_id='extract',\n",
        "    bash_command='echo \"extract\"',\n",
        "    dag=dag,\n",
        ")\n",
        "\n",
        "# define the second task named transform\n",
        "transform = BashOperator(\n",
        "    task_id='transform',\n",
        "    bash_command='echo \"transform\"',\n",
        "    dag=dag,\n",
        ")\n",
        "\n",
        "# define the third task named load\n",
        "\n",
        "load = BashOperator(\n",
        "    task_id='load',\n",
        "    bash_command='echo \"load\"',\n",
        "    dag=dag,\n",
        ")"
      ],
      "metadata": {
        "id": "q6lnqgvFJpHM"
      },
      "execution_count": null,
      "outputs": []
    },
    {
      "cell_type": "markdown",
      "source": [
        "**Task pipeline**"
      ],
      "metadata": {
        "id": "zEfG99f1jnY6"
      }
    },
    {
      "cell_type": "code",
      "source": [
        "# order : extract first, then transform and finally load\n",
        "\n",
        "extract >> transform >> load"
      ],
      "metadata": {
        "id": "1p-iNtdtJpEH"
      },
      "execution_count": null,
      "outputs": []
    }
  ]
}