{
  "nbformat": 4,
  "nbformat_minor": 0,
  "metadata": {
    "colab": {
      "provenance": []
    },
    "kernelspec": {
      "name": "python3",
      "display_name": "Python 3"
    },
    "language_info": {
      "name": "python"
    }
  },
  "cells": [
    {
      "cell_type": "markdown",
      "source": [
        "# **Extraction**"
      ],
      "metadata": {
        "id": "YaizOBl-Unqm"
      }
    },
    {
      "cell_type": "markdown",
      "source": [
        "**Extracting characters**"
      ],
      "metadata": {
        "id": "lJzFtCsbMqfo"
      }
    },
    {
      "cell_type": "code",
      "source": [
        "Victors-MacBook:~ victor$ echo \"database\"\n",
        "database\n",
        "\n",
        "# extracting first 4 characters\n",
        "Victors-MacBook:~ victor$ echo \"database\" | cut -c1-4\n",
        "data\n",
        "# 1st and (4th,5th) characters\n",
        "Victors-MacBook:~ victor$ echo \"database\" | cut -c1,4\n",
        "da\n",
        "Victors-MacBook:~ victor$ echo \"bigdata\" | cut -c1,5\n",
        "ba\n"
      ],
      "metadata": {
        "id": "HkpUaqkhMZMp"
      },
      "execution_count": null,
      "outputs": []
    },
    {
      "cell_type": "markdown",
      "source": [
        "**Extracting fields/columns**"
      ],
      "metadata": {
        "id": "_d8H9uEQO9JT"
      }
    },
    {
      "cell_type": "code",
      "source": [
        "# the file in use is a \",\" delimited file\n",
        "\n",
        "# the first field\n",
        "Victors-MacBook:Victor victor$ cut -d\",\" -f1 /Users/victor/Downloads/Mall_Customers.csv\n",
        "CustomerID\n",
        "1\n",
        "2\n",
        "3\n",
        "4\n",
        "5\n",
        "6\n",
        "7\n",
        "8\n",
        "9\n",
        "10\n",
        "11\n",
        "12\n",
        "13\n",
        "14\n",
        "\n",
        "# first, third and fifth fields\n",
        "\n",
        "Victors-MacBook:Victor victor$ cut -d\",\" -f1,3,5 /Users/victor/Downloads/Mall_Customers.csv\n",
        "CustomerID,Age,Spending Score (1-100)\n",
        "1,19,39\n",
        "2,21,81\n",
        "3,20,6\n",
        "4,23,77\n",
        "5,31,40\n",
        "6,22,76\n",
        "7,35,6\n",
        "8,23,94\n",
        "9,64,3\n",
        "10,30,72\n",
        "11,67,14\n",
        "12,35,99\n",
        "13,58,15\n",
        "14,24,77\n",
        "\n",
        "# third to fifth fields\n",
        "\n",
        "Victors-MacBook:Victor victor$ cut -d\",\" -f3-5 /Users/victor/Downloads/Mall_Customers.csv\n",
        "Age,Annual Income (k$),Spending Score (1-100)\n",
        "19,15,39\n",
        "21,15,81\n",
        "20,16,6\n",
        "23,16,77\n",
        "31,17,40\n",
        "22,17,76\n",
        "35,18,6\n",
        "23,18,94\n",
        "64,19,3\n",
        "30,19,72\n",
        "67,19,14\n",
        "35,19,99\n",
        "58,20,15\n",
        "24,20,77\n",
        "37,20,13"
      ],
      "metadata": {
        "id": "u82Mh-aSMZVU"
      },
      "execution_count": null,
      "outputs": []
    },
    {
      "cell_type": "markdown",
      "source": [
        "# Transformation"
      ],
      "metadata": {
        "id": "_pjbcED_U1kN"
      }
    },
    {
      "cell_type": "code",
      "source": [
        "# translate all lower case alphabets to upper case\n",
        "\n",
        "Victors-MacBook:~ victor$ echo \"Shell Scripting\" | tr \"[a-z]\" \"[A-Z]\"\n",
        "SHELL SCRIPTING\n",
        "\n",
        "# use predefined character sets\n",
        "\n",
        "Victors-MacBook:~ victor$ echo \"Shell Scripting\" | tr \"[:lower:]\" \"[:upper:]\"\n",
        "SHELL SCRIPTING\n",
        "\n",
        "# Delete characters\n",
        "\n",
        "Victors-MacBook:~ victor$ echo \"Entry code is 7667\" | tr -d \"[:digit:]\"\n",
        "Entry code is"
      ],
      "metadata": {
        "id": "oeGarKsTMZY7"
      },
      "execution_count": null,
      "outputs": []
    },
    {
      "cell_type": "markdown",
      "source": [
        "# Loading"
      ],
      "metadata": {
        "id": "KQAjBOoFabk_"
      }
    },
    {
      "cell_type": "markdown",
      "source": [
        "We'll create a table called ‘users‘ in a PostgreSQL database. This table will hold the user account information.\n",
        "\n"
      ],
      "metadata": {
        "id": "-zbrEhRXc6d_"
      }
    },
    {
      "cell_type": "code",
      "source": [
        "# connecting to the database\n",
        "\n",
        "postgres=# \\c template1\n",
        "psql (15.2 (Ubuntu 15.2-1.pgdg18.04+1), server 13.2)\n",
        "You are now connected to database \"template1\" as user \"postgres\".\n",
        "template1=#"
      ],
      "metadata": {
        "id": "jaVsfGV5MZbu"
      },
      "execution_count": null,
      "outputs": []
    },
    {
      "cell_type": "code",
      "source": [
        "# creating the table\n",
        "\n",
        "template1=# create table users(username varchar(50), userid int, homedirectory varchar(100));\n",
        "CREATE TABLE"
      ],
      "metadata": {
        "id": "FUKxGbMdMZeY"
      },
      "execution_count": null,
      "outputs": []
    },
    {
      "cell_type": "markdown",
      "source": [
        "We'll create a shell script which does the following.\n",
        "\n",
        "Extract the user name, user id, and home directory path of each user account defined in the /etc/passwd file.\n",
        "Save the data into a comma separated (CSV) format.\n",
        "Load the data in the csv file into a table in PostgreSQL database.\n"
      ],
      "metadata": {
        "id": "tm9YvtiZfCTw"
      }
    },
    {
      "cell_type": "code",
      "source": [
        "#In this step, we will extract user name (field 1), user id (field 3), and home directory path (field 6) from /etc/passwd file\n",
        "\n",
        "echo \"extraction...\"\n",
        "\n",
        "cut -d\":\" -f1,3,6 /etc/passwd"
      ],
      "metadata": {
        "id": "Jy_jhTjmMZnQ"
      },
      "execution_count": null,
      "outputs": []
    },
    {
      "cell_type": "code",
      "source": [
        "theia@theiadocker-ndutiv:/home/project$ bash csv2bd.sh\n",
        "Extracting data\n",
        "root:0:/root\n",
        "daemon:1:/usr/sbin\n",
        "bin:2:/bin\n",
        "sys:3:/dev\n",
        "sync:4:/bin\n",
        "games:5:/usr/games\n",
        "man:6:/var/cache/man\n",
        "lp:7:/var/spool/lpd\n",
        "mail:8:/var/mail\n",
        "news:9:/var/spool/news\n",
        "uucp:10:/var/spool/uucp\n",
        "proxy:13:/bin\n",
        "www-data:33:/var/www\n",
        "backup:34:/var/backups\n",
        "list:38:/var/list\n",
        "irc:39:/var/run/ircd\n",
        "gnats:41:/var/lib/gnats\n",
        "nobody:65534:/nonexistent\n",
        "_apt:100:/nonexistent\n",
        "messagebus:101:/nonexistent\n",
        "theia:1000:/home/theia\n",
        "mongodb:102:/var/lib/mongodb\n",
        "ntp:103:/nonexistent\n",
        "cassandra:104:/var/lib/cassandra\n",
        "postgres:105:/var/lib/postgresql"
      ],
      "metadata": {
        "id": "RZbF-KRjMZq_"
      },
      "execution_count": null,
      "outputs": []
    },
    {
      "cell_type": "code",
      "source": [
        "echo \"Extracting data\"\n",
        "\n",
        "# Extract the columns 1 (user name), 2 (user id) and\n",
        "# 6 (home directory path) from /etc/passwd\n",
        "\n",
        "cut -d\":\" -f1,3,6 /etc/passwd > extracted-data.txt"
      ],
      "metadata": {
        "id": "T_V8mutOMZts"
      },
      "execution_count": null,
      "outputs": []
    },
    {
      "cell_type": "code",
      "source": [
        "# running the shell command in the terminal\n",
        "\n",
        "theia@theiadocker-ndutiv:/home/project$ bash csv2bd.sh\n",
        "Extracting data"
      ],
      "metadata": {
        "id": "paFW3ep8fkkr"
      },
      "execution_count": null,
      "outputs": []
    },
    {
      "cell_type": "code",
      "source": [
        "# confirming the output of the file on terminal\n",
        "\n",
        "theia@theiadocker-ndutiv:/home/project$ cat extracted-data.txt\n",
        "root:0:/root\n",
        "daemon:1:/usr/sbin\n",
        "bin:2:/bin\n",
        "sys:3:/dev\n",
        "sync:4:/bin\n",
        "games:5:/usr/games\n",
        "man:6:/var/cache/man\n",
        "lp:7:/var/spool/lpd\n",
        "mail:8:/var/mail\n",
        "news:9:/var/spool/news\n",
        "uucp:10:/var/spool/uucp\n",
        "proxy:13:/bin\n",
        "www-data:33:/var/www\n",
        "backup:34:/var/backups\n",
        "list:38:/var/list\n",
        "irc:39:/var/run/ircd\n",
        "gnats:41:/var/lib/gnats\n",
        "nobody:65534:/nonexistent\n",
        "_apt:100:/nonexistent\n",
        "messagebus:101:/nonexistent\n",
        "theia:1000:/home/theia\n",
        "mongodb:102:/var/lib/mongodb\n",
        "ntp:103:/nonexistent\n",
        "cassandra:104:/var/lib/cassandra\n",
        "postgres:105:/var/lib/postgresql"
      ],
      "metadata": {
        "id": "pBau44nIfkhp"
      },
      "execution_count": null,
      "outputs": []
    },
    {
      "cell_type": "code",
      "source": [
        "# Transform phase\n",
        "echo \"Transforming data\"\n",
        "# read the extracted data and replace the colons with commas.\n",
        "\n",
        "tr \":\" \",\" < extracted-data.txt > transformed-data.csv"
      ],
      "metadata": {
        "id": "bO-IUolSfkfH"
      },
      "execution_count": null,
      "outputs": []
    },
    {
      "cell_type": "code",
      "source": [
        "# Running on the terminal and confirming the result\n",
        "\n",
        "theia@theiadocker-ndutiv:/home/project$ bash csv2bd.sh\n",
        "Extracting data\n",
        "Transforming data\n",
        "theia@theiadocker-ndutiv:/home/project$ cat transformed-data.csv\n",
        "root,0,/root\n",
        "daemon,1,/usr/sbin\n",
        "bin,2,/bin\n",
        "sys,3,/dev\n",
        "sync,4,/bin\n",
        "games,5,/usr/games\n",
        "man,6,/var/cache/man\n",
        "lp,7,/var/spool/lpd\n",
        "mail,8,/var/mail\n",
        "news,9,/var/spool/news\n",
        "uucp,10,/var/spool/uucp\n",
        "proxy,13,/bin\n",
        "www-data,33,/var/www\n",
        "backup,34,/var/backups\n",
        "list,38,/var/list\n",
        "irc,39,/var/run/ircd\n",
        "gnats,41,/var/lib/gnats\n",
        "nobody,65534,/nonexistent\n",
        "_apt,100,/nonexistent\n",
        "messagebus,101,/nonexistent\n",
        "theia,1000,/home/theia\n",
        "mongodb,102,/var/lib/mongodb\n",
        "ntp,103,/nonexistent\n",
        "cassandra,104,/var/lib/cassandra\n",
        "postgres,105,/var/lib/postgresql"
      ],
      "metadata": {
        "id": "pyHjnlkzfkcF"
      },
      "execution_count": null,
      "outputs": []
    },
    {
      "cell_type": "code",
      "source": [
        "# Load phase\n",
        "echo \"Loading data\"\n",
        "# Send the instructions to connect to 'template1' and\n",
        "# copy the file to the table 'users' through command pipeline.\n",
        "\n",
        "echo \"\\c template1;\\COPY users  FROM '/home/project/transformed-data.csv' DELIMITERS ',' CSV;\" | psql --username=postgres --host=localhost"
      ],
      "metadata": {
        "id": "JNPA3ZOGfkY0"
      },
      "execution_count": null,
      "outputs": []
    },
    {
      "cell_type": "code",
      "source": [
        "# running on the terminal\n",
        "\n",
        "theia@theiadocker-ndutiv:/home/project$ bash csv2bd.sh\n",
        "Extracting data\n",
        "Transforming data\n",
        "Loading data\n",
        "\\c template1;\\COPY users  FROM\n",
        "'/home/project/transformed-data.csv' DELIMITERS ',' CSV;\n",
        "csv2bd.sh: line 23: syntax error near unexpected token `|'\n",
        "csv2bd.sh: line 23: ` | psql --username=postgres --host=localhost'"
      ],
      "metadata": {
        "id": "uUljSqnTfkV_"
      },
      "execution_count": null,
      "outputs": []
    },
    {
      "cell_type": "code",
      "source": [
        "# confirming the output\n",
        "\n",
        "theia@theiadocker-ndutiv:/home/project$ echo '\\c template1; \\\\SELECT * from users;' | psql --username=postgres --host=localhost\n",
        "You are now connected to database \"template1\" as user \"postgres\".\n",
        "  username  | userid |    homedirectory\n",
        "------------+--------+---------------------\n",
        " root       |      0 | /root\n",
        " daemon     |      1 | /usr/sbin\n",
        " bin        |      2 | /bin\n",
        " sys        |      3 | /dev\n",
        " sync       |      4 | /bin\n",
        " games      |      5 | /usr/games\n",
        " man        |      6 | /var/cache/man\n",
        " lp         |      7 | /var/spool/lpd\n",
        " mail       |      8 | /var/mail\n",
        " news       |      9 | /var/spool/news\n",
        " uucp       |     10 | /var/spool/uucp\n",
        " proxy      |     13 | /bin\n",
        " www-data   |     33 | /var/www\n",
        " backup     |     34 | /var/backups\n",
        " list       |     38 | /var/list\n",
        " irc        |     39 | /var/run/ircd\n",
        " gnats      |     41 | /var/lib/gnats\n",
        " nobody     |  65534 | /nonexistent\n",
        " _apt       |    100 | /nonexistent\n",
        " messagebus |    101 | /nonexistent\n",
        " theia      |   1000 | /home/theia\n",
        " mongodb    |    102 | /var/lib/mongodb\n",
        " ntp        |    103 | /nonexistent\n",
        " cassandra  |    104 | /var/lib/cassandra\n",
        " postgres   |    105 | /var/lib/postgresql\n",
        "(25 rows)"
      ],
      "metadata": {
        "id": "_ezChex7fkSi"
      },
      "execution_count": null,
      "outputs": []
    },
    {
      "cell_type": "markdown",
      "source": [
        "**Complete etl file**"
      ],
      "metadata": {
        "id": "9r063mZ6kMHM"
      }
    },
    {
      "cell_type": "code",
      "source": [
        "# Extract phase\n",
        "\n",
        "echo \"Extracting data\"\n",
        "cut -d\":\" -f1,3,6 /etc/passwd > extracted-data.txt\n",
        "\n",
        "# Transform phase\n",
        "echo \"Transforming data\"\n",
        "tr \":\" \",\" < extracted-data.txt > transformed-data.csv\n",
        "\n",
        "# Load phase\n",
        "echo \"Loading data\"\n",
        "echo \"\\c template1;\\COPY users  FROM '/home/project/transformed-data.csv' DELIMITERS ',' CSV;\" | psql --username=postgres --host=localhost"
      ],
      "metadata": {
        "id": "NUGRmENbkQAO"
      },
      "execution_count": null,
      "outputs": []
    }
  ]
}